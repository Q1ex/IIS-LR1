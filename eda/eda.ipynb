{
 "cells": [
  {
   "cell_type": "code",
   "execution_count": null,
   "metadata": {},
   "outputs": [],
   "source": [
    "import pandas as pd     \n",
    "\n",
    "df = pd.read_csv(r\"D:\\уник\\мага\\3сем\\IIS\\IIS-LR1\\heart-disease.csv\")"
   ]
  },
  {
   "cell_type": "code",
   "execution_count": 2,
   "metadata": {},
   "outputs": [
    {
     "data": {
      "text/html": [
       "<div>\n",
       "<style scoped>\n",
       "    .dataframe tbody tr th:only-of-type {\n",
       "        vertical-align: middle;\n",
       "    }\n",
       "\n",
       "    .dataframe tbody tr th {\n",
       "        vertical-align: top;\n",
       "    }\n",
       "\n",
       "    .dataframe thead th {\n",
       "        text-align: right;\n",
       "    }\n",
       "</style>\n",
       "<table border=\"1\" class=\"dataframe\">\n",
       "  <thead>\n",
       "    <tr style=\"text-align: right;\">\n",
       "      <th></th>\n",
       "      <th>age</th>\n",
       "      <th>sex</th>\n",
       "      <th>cp</th>\n",
       "      <th>trestbps</th>\n",
       "      <th>chol</th>\n",
       "      <th>fbs</th>\n",
       "      <th>restecg</th>\n",
       "      <th>thalach</th>\n",
       "      <th>exang</th>\n",
       "      <th>oldpeak</th>\n",
       "      <th>slope</th>\n",
       "      <th>ca</th>\n",
       "      <th>thal</th>\n",
       "      <th>target</th>\n",
       "    </tr>\n",
       "  </thead>\n",
       "  <tbody>\n",
       "    <tr>\n",
       "      <th>0</th>\n",
       "      <td>63</td>\n",
       "      <td>1</td>\n",
       "      <td>3</td>\n",
       "      <td>145</td>\n",
       "      <td>233</td>\n",
       "      <td>1</td>\n",
       "      <td>0</td>\n",
       "      <td>150</td>\n",
       "      <td>0</td>\n",
       "      <td>2.3</td>\n",
       "      <td>0</td>\n",
       "      <td>0</td>\n",
       "      <td>1</td>\n",
       "      <td>1</td>\n",
       "    </tr>\n",
       "    <tr>\n",
       "      <th>1</th>\n",
       "      <td>37</td>\n",
       "      <td>1</td>\n",
       "      <td>2</td>\n",
       "      <td>130</td>\n",
       "      <td>250</td>\n",
       "      <td>0</td>\n",
       "      <td>1</td>\n",
       "      <td>187</td>\n",
       "      <td>0</td>\n",
       "      <td>3.5</td>\n",
       "      <td>0</td>\n",
       "      <td>0</td>\n",
       "      <td>2</td>\n",
       "      <td>1</td>\n",
       "    </tr>\n",
       "    <tr>\n",
       "      <th>2</th>\n",
       "      <td>41</td>\n",
       "      <td>0</td>\n",
       "      <td>1</td>\n",
       "      <td>130</td>\n",
       "      <td>204</td>\n",
       "      <td>0</td>\n",
       "      <td>0</td>\n",
       "      <td>172</td>\n",
       "      <td>0</td>\n",
       "      <td>1.4</td>\n",
       "      <td>2</td>\n",
       "      <td>0</td>\n",
       "      <td>2</td>\n",
       "      <td>1</td>\n",
       "    </tr>\n",
       "    <tr>\n",
       "      <th>3</th>\n",
       "      <td>56</td>\n",
       "      <td>1</td>\n",
       "      <td>1</td>\n",
       "      <td>120</td>\n",
       "      <td>236</td>\n",
       "      <td>0</td>\n",
       "      <td>1</td>\n",
       "      <td>178</td>\n",
       "      <td>0</td>\n",
       "      <td>0.8</td>\n",
       "      <td>2</td>\n",
       "      <td>0</td>\n",
       "      <td>2</td>\n",
       "      <td>1</td>\n",
       "    </tr>\n",
       "    <tr>\n",
       "      <th>4</th>\n",
       "      <td>57</td>\n",
       "      <td>0</td>\n",
       "      <td>0</td>\n",
       "      <td>120</td>\n",
       "      <td>354</td>\n",
       "      <td>0</td>\n",
       "      <td>1</td>\n",
       "      <td>163</td>\n",
       "      <td>1</td>\n",
       "      <td>0.6</td>\n",
       "      <td>2</td>\n",
       "      <td>0</td>\n",
       "      <td>2</td>\n",
       "      <td>1</td>\n",
       "    </tr>\n",
       "    <tr>\n",
       "      <th>...</th>\n",
       "      <td>...</td>\n",
       "      <td>...</td>\n",
       "      <td>...</td>\n",
       "      <td>...</td>\n",
       "      <td>...</td>\n",
       "      <td>...</td>\n",
       "      <td>...</td>\n",
       "      <td>...</td>\n",
       "      <td>...</td>\n",
       "      <td>...</td>\n",
       "      <td>...</td>\n",
       "      <td>...</td>\n",
       "      <td>...</td>\n",
       "      <td>...</td>\n",
       "    </tr>\n",
       "    <tr>\n",
       "      <th>298</th>\n",
       "      <td>57</td>\n",
       "      <td>0</td>\n",
       "      <td>0</td>\n",
       "      <td>140</td>\n",
       "      <td>241</td>\n",
       "      <td>0</td>\n",
       "      <td>1</td>\n",
       "      <td>123</td>\n",
       "      <td>1</td>\n",
       "      <td>0.2</td>\n",
       "      <td>1</td>\n",
       "      <td>0</td>\n",
       "      <td>3</td>\n",
       "      <td>0</td>\n",
       "    </tr>\n",
       "    <tr>\n",
       "      <th>299</th>\n",
       "      <td>45</td>\n",
       "      <td>1</td>\n",
       "      <td>3</td>\n",
       "      <td>110</td>\n",
       "      <td>264</td>\n",
       "      <td>0</td>\n",
       "      <td>1</td>\n",
       "      <td>132</td>\n",
       "      <td>0</td>\n",
       "      <td>1.2</td>\n",
       "      <td>1</td>\n",
       "      <td>0</td>\n",
       "      <td>3</td>\n",
       "      <td>0</td>\n",
       "    </tr>\n",
       "    <tr>\n",
       "      <th>300</th>\n",
       "      <td>68</td>\n",
       "      <td>1</td>\n",
       "      <td>0</td>\n",
       "      <td>144</td>\n",
       "      <td>193</td>\n",
       "      <td>1</td>\n",
       "      <td>1</td>\n",
       "      <td>141</td>\n",
       "      <td>0</td>\n",
       "      <td>3.4</td>\n",
       "      <td>1</td>\n",
       "      <td>2</td>\n",
       "      <td>3</td>\n",
       "      <td>0</td>\n",
       "    </tr>\n",
       "    <tr>\n",
       "      <th>301</th>\n",
       "      <td>57</td>\n",
       "      <td>1</td>\n",
       "      <td>0</td>\n",
       "      <td>130</td>\n",
       "      <td>131</td>\n",
       "      <td>0</td>\n",
       "      <td>1</td>\n",
       "      <td>115</td>\n",
       "      <td>1</td>\n",
       "      <td>1.2</td>\n",
       "      <td>1</td>\n",
       "      <td>1</td>\n",
       "      <td>3</td>\n",
       "      <td>0</td>\n",
       "    </tr>\n",
       "    <tr>\n",
       "      <th>302</th>\n",
       "      <td>57</td>\n",
       "      <td>0</td>\n",
       "      <td>1</td>\n",
       "      <td>130</td>\n",
       "      <td>236</td>\n",
       "      <td>0</td>\n",
       "      <td>0</td>\n",
       "      <td>174</td>\n",
       "      <td>0</td>\n",
       "      <td>0.0</td>\n",
       "      <td>1</td>\n",
       "      <td>1</td>\n",
       "      <td>2</td>\n",
       "      <td>0</td>\n",
       "    </tr>\n",
       "  </tbody>\n",
       "</table>\n",
       "<p>303 rows × 14 columns</p>\n",
       "</div>"
      ],
      "text/plain": [
       "     age  sex  cp  trestbps  chol  fbs  restecg  thalach  exang  oldpeak  \\\n",
       "0     63    1   3       145   233    1        0      150      0      2.3   \n",
       "1     37    1   2       130   250    0        1      187      0      3.5   \n",
       "2     41    0   1       130   204    0        0      172      0      1.4   \n",
       "3     56    1   1       120   236    0        1      178      0      0.8   \n",
       "4     57    0   0       120   354    0        1      163      1      0.6   \n",
       "..   ...  ...  ..       ...   ...  ...      ...      ...    ...      ...   \n",
       "298   57    0   0       140   241    0        1      123      1      0.2   \n",
       "299   45    1   3       110   264    0        1      132      0      1.2   \n",
       "300   68    1   0       144   193    1        1      141      0      3.4   \n",
       "301   57    1   0       130   131    0        1      115      1      1.2   \n",
       "302   57    0   1       130   236    0        0      174      0      0.0   \n",
       "\n",
       "     slope  ca  thal  target  \n",
       "0        0   0     1       1  \n",
       "1        0   0     2       1  \n",
       "2        2   0     2       1  \n",
       "3        2   0     2       1  \n",
       "4        2   0     2       1  \n",
       "..     ...  ..   ...     ...  \n",
       "298      1   0     3       0  \n",
       "299      1   0     3       0  \n",
       "300      1   2     3       0  \n",
       "301      1   1     3       0  \n",
       "302      1   1     2       0  \n",
       "\n",
       "[303 rows x 14 columns]"
      ]
     },
     "execution_count": 2,
     "metadata": {},
     "output_type": "execute_result"
    }
   ],
   "source": [
    "df"
   ]
  },
  {
   "cell_type": "code",
   "execution_count": 3,
   "metadata": {},
   "outputs": [
    {
     "data": {
      "text/html": [
       "<div>\n",
       "<style scoped>\n",
       "    .dataframe tbody tr th:only-of-type {\n",
       "        vertical-align: middle;\n",
       "    }\n",
       "\n",
       "    .dataframe tbody tr th {\n",
       "        vertical-align: top;\n",
       "    }\n",
       "\n",
       "    .dataframe thead th {\n",
       "        text-align: right;\n",
       "    }\n",
       "</style>\n",
       "<table border=\"1\" class=\"dataframe\">\n",
       "  <thead>\n",
       "    <tr style=\"text-align: right;\">\n",
       "      <th></th>\n",
       "      <th>age</th>\n",
       "      <th>sex</th>\n",
       "      <th>cp</th>\n",
       "      <th>trestbps</th>\n",
       "      <th>chol</th>\n",
       "      <th>fbs</th>\n",
       "      <th>restecg</th>\n",
       "      <th>thalach</th>\n",
       "      <th>exang</th>\n",
       "      <th>oldpeak</th>\n",
       "      <th>slope</th>\n",
       "      <th>ca</th>\n",
       "      <th>thal</th>\n",
       "      <th>target</th>\n",
       "    </tr>\n",
       "  </thead>\n",
       "  <tbody>\n",
       "    <tr>\n",
       "      <th>0</th>\n",
       "      <td>63</td>\n",
       "      <td>1</td>\n",
       "      <td>3</td>\n",
       "      <td>145</td>\n",
       "      <td>233</td>\n",
       "      <td>1</td>\n",
       "      <td>0</td>\n",
       "      <td>150</td>\n",
       "      <td>0</td>\n",
       "      <td>2.3</td>\n",
       "      <td>0</td>\n",
       "      <td>0</td>\n",
       "      <td>1</td>\n",
       "      <td>1</td>\n",
       "    </tr>\n",
       "    <tr>\n",
       "      <th>1</th>\n",
       "      <td>37</td>\n",
       "      <td>1</td>\n",
       "      <td>2</td>\n",
       "      <td>130</td>\n",
       "      <td>250</td>\n",
       "      <td>0</td>\n",
       "      <td>1</td>\n",
       "      <td>187</td>\n",
       "      <td>0</td>\n",
       "      <td>3.5</td>\n",
       "      <td>0</td>\n",
       "      <td>0</td>\n",
       "      <td>2</td>\n",
       "      <td>1</td>\n",
       "    </tr>\n",
       "    <tr>\n",
       "      <th>2</th>\n",
       "      <td>41</td>\n",
       "      <td>0</td>\n",
       "      <td>1</td>\n",
       "      <td>130</td>\n",
       "      <td>204</td>\n",
       "      <td>0</td>\n",
       "      <td>0</td>\n",
       "      <td>172</td>\n",
       "      <td>0</td>\n",
       "      <td>1.4</td>\n",
       "      <td>2</td>\n",
       "      <td>0</td>\n",
       "      <td>2</td>\n",
       "      <td>1</td>\n",
       "    </tr>\n",
       "    <tr>\n",
       "      <th>3</th>\n",
       "      <td>56</td>\n",
       "      <td>1</td>\n",
       "      <td>1</td>\n",
       "      <td>120</td>\n",
       "      <td>236</td>\n",
       "      <td>0</td>\n",
       "      <td>1</td>\n",
       "      <td>178</td>\n",
       "      <td>0</td>\n",
       "      <td>0.8</td>\n",
       "      <td>2</td>\n",
       "      <td>0</td>\n",
       "      <td>2</td>\n",
       "      <td>1</td>\n",
       "    </tr>\n",
       "    <tr>\n",
       "      <th>4</th>\n",
       "      <td>57</td>\n",
       "      <td>0</td>\n",
       "      <td>0</td>\n",
       "      <td>120</td>\n",
       "      <td>354</td>\n",
       "      <td>0</td>\n",
       "      <td>1</td>\n",
       "      <td>163</td>\n",
       "      <td>1</td>\n",
       "      <td>0.6</td>\n",
       "      <td>2</td>\n",
       "      <td>0</td>\n",
       "      <td>2</td>\n",
       "      <td>1</td>\n",
       "    </tr>\n",
       "  </tbody>\n",
       "</table>\n",
       "</div>"
      ],
      "text/plain": [
       "   age  sex  cp  trestbps  chol  fbs  restecg  thalach  exang  oldpeak  slope  \\\n",
       "0   63    1   3       145   233    1        0      150      0      2.3      0   \n",
       "1   37    1   2       130   250    0        1      187      0      3.5      0   \n",
       "2   41    0   1       130   204    0        0      172      0      1.4      2   \n",
       "3   56    1   1       120   236    0        1      178      0      0.8      2   \n",
       "4   57    0   0       120   354    0        1      163      1      0.6      2   \n",
       "\n",
       "   ca  thal  target  \n",
       "0   0     1       1  \n",
       "1   0     2       1  \n",
       "2   0     2       1  \n",
       "3   0     2       1  \n",
       "4   0     2       1  "
      ]
     },
     "execution_count": 3,
     "metadata": {},
     "output_type": "execute_result"
    }
   ],
   "source": [
    "df.head()"
   ]
  },
  {
   "cell_type": "markdown",
   "metadata": {},
   "source": [
    "\n",
    "# 1. Загрузка данных и знакомство с ними\n"
   ]
  },
  {
   "cell_type": "code",
   "execution_count": null,
   "metadata": {},
   "outputs": [
    {
     "name": "stdout",
     "output_type": "stream",
     "text": [
      "Размер датасета: (303, 14)\n",
      "\n",
      "Типы данных:\n",
      "age           int64\n",
      "sex           int64\n",
      "cp            int64\n",
      "trestbps      int64\n",
      "chol          int64\n",
      "fbs           int64\n",
      "restecg       int64\n",
      "thalach       int64\n",
      "exang         int64\n",
      "oldpeak     float64\n",
      "slope         int64\n",
      "ca            int64\n",
      "thal          int64\n",
      "target        int64\n",
      "dtype: object\n"
     ]
    }
   ],
   "source": [
    "import pandas as pd\n",
    "import numpy as np\n",
    "import matplotlib.pyplot as plt\n",
    "import seaborn as sns\n",
    "\n",
    "# Загружаем датасет\n",
    "df = pd.read_csv(r\"D:\\уник\\мага\\3сем\\IIS\\IIS-LR1\\heart-disease.csv\")\n",
    "\n",
    "# Общая информация\n",
    "print(\"Размер датасета:\", df.shape)\n",
    "print(\"\\nТипы данных:\")\n",
    "print(df.dtypes)"
   ]
  },
  {
   "cell_type": "code",
   "execution_count": 5,
   "metadata": {},
   "outputs": [
    {
     "name": "stdout",
     "output_type": "stream",
     "text": [
      "\n",
      "Первые строки:\n"
     ]
    },
    {
     "data": {
      "text/html": [
       "<div>\n",
       "<style scoped>\n",
       "    .dataframe tbody tr th:only-of-type {\n",
       "        vertical-align: middle;\n",
       "    }\n",
       "\n",
       "    .dataframe tbody tr th {\n",
       "        vertical-align: top;\n",
       "    }\n",
       "\n",
       "    .dataframe thead th {\n",
       "        text-align: right;\n",
       "    }\n",
       "</style>\n",
       "<table border=\"1\" class=\"dataframe\">\n",
       "  <thead>\n",
       "    <tr style=\"text-align: right;\">\n",
       "      <th></th>\n",
       "      <th>age</th>\n",
       "      <th>sex</th>\n",
       "      <th>cp</th>\n",
       "      <th>trestbps</th>\n",
       "      <th>chol</th>\n",
       "      <th>fbs</th>\n",
       "      <th>restecg</th>\n",
       "      <th>thalach</th>\n",
       "      <th>exang</th>\n",
       "      <th>oldpeak</th>\n",
       "      <th>slope</th>\n",
       "      <th>ca</th>\n",
       "      <th>thal</th>\n",
       "      <th>target</th>\n",
       "    </tr>\n",
       "  </thead>\n",
       "  <tbody>\n",
       "    <tr>\n",
       "      <th>0</th>\n",
       "      <td>63</td>\n",
       "      <td>1</td>\n",
       "      <td>3</td>\n",
       "      <td>145</td>\n",
       "      <td>233</td>\n",
       "      <td>1</td>\n",
       "      <td>0</td>\n",
       "      <td>150</td>\n",
       "      <td>0</td>\n",
       "      <td>2.3</td>\n",
       "      <td>0</td>\n",
       "      <td>0</td>\n",
       "      <td>1</td>\n",
       "      <td>1</td>\n",
       "    </tr>\n",
       "    <tr>\n",
       "      <th>1</th>\n",
       "      <td>37</td>\n",
       "      <td>1</td>\n",
       "      <td>2</td>\n",
       "      <td>130</td>\n",
       "      <td>250</td>\n",
       "      <td>0</td>\n",
       "      <td>1</td>\n",
       "      <td>187</td>\n",
       "      <td>0</td>\n",
       "      <td>3.5</td>\n",
       "      <td>0</td>\n",
       "      <td>0</td>\n",
       "      <td>2</td>\n",
       "      <td>1</td>\n",
       "    </tr>\n",
       "    <tr>\n",
       "      <th>2</th>\n",
       "      <td>41</td>\n",
       "      <td>0</td>\n",
       "      <td>1</td>\n",
       "      <td>130</td>\n",
       "      <td>204</td>\n",
       "      <td>0</td>\n",
       "      <td>0</td>\n",
       "      <td>172</td>\n",
       "      <td>0</td>\n",
       "      <td>1.4</td>\n",
       "      <td>2</td>\n",
       "      <td>0</td>\n",
       "      <td>2</td>\n",
       "      <td>1</td>\n",
       "    </tr>\n",
       "    <tr>\n",
       "      <th>3</th>\n",
       "      <td>56</td>\n",
       "      <td>1</td>\n",
       "      <td>1</td>\n",
       "      <td>120</td>\n",
       "      <td>236</td>\n",
       "      <td>0</td>\n",
       "      <td>1</td>\n",
       "      <td>178</td>\n",
       "      <td>0</td>\n",
       "      <td>0.8</td>\n",
       "      <td>2</td>\n",
       "      <td>0</td>\n",
       "      <td>2</td>\n",
       "      <td>1</td>\n",
       "    </tr>\n",
       "    <tr>\n",
       "      <th>4</th>\n",
       "      <td>57</td>\n",
       "      <td>0</td>\n",
       "      <td>0</td>\n",
       "      <td>120</td>\n",
       "      <td>354</td>\n",
       "      <td>0</td>\n",
       "      <td>1</td>\n",
       "      <td>163</td>\n",
       "      <td>1</td>\n",
       "      <td>0.6</td>\n",
       "      <td>2</td>\n",
       "      <td>0</td>\n",
       "      <td>2</td>\n",
       "      <td>1</td>\n",
       "    </tr>\n",
       "  </tbody>\n",
       "</table>\n",
       "</div>"
      ],
      "text/plain": [
       "   age  sex  cp  trestbps  chol  fbs  restecg  thalach  exang  oldpeak  slope  \\\n",
       "0   63    1   3       145   233    1        0      150      0      2.3      0   \n",
       "1   37    1   2       130   250    0        1      187      0      3.5      0   \n",
       "2   41    0   1       130   204    0        0      172      0      1.4      2   \n",
       "3   56    1   1       120   236    0        1      178      0      0.8      2   \n",
       "4   57    0   0       120   354    0        1      163      1      0.6      2   \n",
       "\n",
       "   ca  thal  target  \n",
       "0   0     1       1  \n",
       "1   0     2       1  \n",
       "2   0     2       1  \n",
       "3   0     2       1  \n",
       "4   0     2       1  "
      ]
     },
     "metadata": {},
     "output_type": "display_data"
    }
   ],
   "source": [
    "print(\"\\nПервые строки:\")\n",
    "display(df.head())\n"
   ]
  },
  {
   "cell_type": "code",
   "execution_count": 6,
   "metadata": {},
   "outputs": [
    {
     "name": "stdout",
     "output_type": "stream",
     "text": [
      "\n",
      "Основные статистики по числовым признакам:\n"
     ]
    },
    {
     "data": {
      "text/html": [
       "<div>\n",
       "<style scoped>\n",
       "    .dataframe tbody tr th:only-of-type {\n",
       "        vertical-align: middle;\n",
       "    }\n",
       "\n",
       "    .dataframe tbody tr th {\n",
       "        vertical-align: top;\n",
       "    }\n",
       "\n",
       "    .dataframe thead th {\n",
       "        text-align: right;\n",
       "    }\n",
       "</style>\n",
       "<table border=\"1\" class=\"dataframe\">\n",
       "  <thead>\n",
       "    <tr style=\"text-align: right;\">\n",
       "      <th></th>\n",
       "      <th>age</th>\n",
       "      <th>sex</th>\n",
       "      <th>cp</th>\n",
       "      <th>trestbps</th>\n",
       "      <th>chol</th>\n",
       "      <th>fbs</th>\n",
       "      <th>restecg</th>\n",
       "      <th>thalach</th>\n",
       "      <th>exang</th>\n",
       "      <th>oldpeak</th>\n",
       "      <th>slope</th>\n",
       "      <th>ca</th>\n",
       "      <th>thal</th>\n",
       "      <th>target</th>\n",
       "    </tr>\n",
       "  </thead>\n",
       "  <tbody>\n",
       "    <tr>\n",
       "      <th>count</th>\n",
       "      <td>303.000000</td>\n",
       "      <td>303.000000</td>\n",
       "      <td>303.000000</td>\n",
       "      <td>303.000000</td>\n",
       "      <td>303.000000</td>\n",
       "      <td>303.000000</td>\n",
       "      <td>303.000000</td>\n",
       "      <td>303.000000</td>\n",
       "      <td>303.000000</td>\n",
       "      <td>303.000000</td>\n",
       "      <td>303.000000</td>\n",
       "      <td>303.000000</td>\n",
       "      <td>303.000000</td>\n",
       "      <td>303.000000</td>\n",
       "    </tr>\n",
       "    <tr>\n",
       "      <th>mean</th>\n",
       "      <td>54.366337</td>\n",
       "      <td>0.683168</td>\n",
       "      <td>0.966997</td>\n",
       "      <td>131.623762</td>\n",
       "      <td>246.264026</td>\n",
       "      <td>0.148515</td>\n",
       "      <td>0.528053</td>\n",
       "      <td>149.646865</td>\n",
       "      <td>0.326733</td>\n",
       "      <td>1.039604</td>\n",
       "      <td>1.399340</td>\n",
       "      <td>0.729373</td>\n",
       "      <td>2.313531</td>\n",
       "      <td>0.544554</td>\n",
       "    </tr>\n",
       "    <tr>\n",
       "      <th>std</th>\n",
       "      <td>9.082101</td>\n",
       "      <td>0.466011</td>\n",
       "      <td>1.032052</td>\n",
       "      <td>17.538143</td>\n",
       "      <td>51.830751</td>\n",
       "      <td>0.356198</td>\n",
       "      <td>0.525860</td>\n",
       "      <td>22.905161</td>\n",
       "      <td>0.469794</td>\n",
       "      <td>1.161075</td>\n",
       "      <td>0.616226</td>\n",
       "      <td>1.022606</td>\n",
       "      <td>0.612277</td>\n",
       "      <td>0.498835</td>\n",
       "    </tr>\n",
       "    <tr>\n",
       "      <th>min</th>\n",
       "      <td>29.000000</td>\n",
       "      <td>0.000000</td>\n",
       "      <td>0.000000</td>\n",
       "      <td>94.000000</td>\n",
       "      <td>126.000000</td>\n",
       "      <td>0.000000</td>\n",
       "      <td>0.000000</td>\n",
       "      <td>71.000000</td>\n",
       "      <td>0.000000</td>\n",
       "      <td>0.000000</td>\n",
       "      <td>0.000000</td>\n",
       "      <td>0.000000</td>\n",
       "      <td>0.000000</td>\n",
       "      <td>0.000000</td>\n",
       "    </tr>\n",
       "    <tr>\n",
       "      <th>25%</th>\n",
       "      <td>47.500000</td>\n",
       "      <td>0.000000</td>\n",
       "      <td>0.000000</td>\n",
       "      <td>120.000000</td>\n",
       "      <td>211.000000</td>\n",
       "      <td>0.000000</td>\n",
       "      <td>0.000000</td>\n",
       "      <td>133.500000</td>\n",
       "      <td>0.000000</td>\n",
       "      <td>0.000000</td>\n",
       "      <td>1.000000</td>\n",
       "      <td>0.000000</td>\n",
       "      <td>2.000000</td>\n",
       "      <td>0.000000</td>\n",
       "    </tr>\n",
       "    <tr>\n",
       "      <th>50%</th>\n",
       "      <td>55.000000</td>\n",
       "      <td>1.000000</td>\n",
       "      <td>1.000000</td>\n",
       "      <td>130.000000</td>\n",
       "      <td>240.000000</td>\n",
       "      <td>0.000000</td>\n",
       "      <td>1.000000</td>\n",
       "      <td>153.000000</td>\n",
       "      <td>0.000000</td>\n",
       "      <td>0.800000</td>\n",
       "      <td>1.000000</td>\n",
       "      <td>0.000000</td>\n",
       "      <td>2.000000</td>\n",
       "      <td>1.000000</td>\n",
       "    </tr>\n",
       "    <tr>\n",
       "      <th>75%</th>\n",
       "      <td>61.000000</td>\n",
       "      <td>1.000000</td>\n",
       "      <td>2.000000</td>\n",
       "      <td>140.000000</td>\n",
       "      <td>274.500000</td>\n",
       "      <td>0.000000</td>\n",
       "      <td>1.000000</td>\n",
       "      <td>166.000000</td>\n",
       "      <td>1.000000</td>\n",
       "      <td>1.600000</td>\n",
       "      <td>2.000000</td>\n",
       "      <td>1.000000</td>\n",
       "      <td>3.000000</td>\n",
       "      <td>1.000000</td>\n",
       "    </tr>\n",
       "    <tr>\n",
       "      <th>max</th>\n",
       "      <td>77.000000</td>\n",
       "      <td>1.000000</td>\n",
       "      <td>3.000000</td>\n",
       "      <td>200.000000</td>\n",
       "      <td>564.000000</td>\n",
       "      <td>1.000000</td>\n",
       "      <td>2.000000</td>\n",
       "      <td>202.000000</td>\n",
       "      <td>1.000000</td>\n",
       "      <td>6.200000</td>\n",
       "      <td>2.000000</td>\n",
       "      <td>4.000000</td>\n",
       "      <td>3.000000</td>\n",
       "      <td>1.000000</td>\n",
       "    </tr>\n",
       "  </tbody>\n",
       "</table>\n",
       "</div>"
      ],
      "text/plain": [
       "              age         sex          cp    trestbps        chol         fbs  \\\n",
       "count  303.000000  303.000000  303.000000  303.000000  303.000000  303.000000   \n",
       "mean    54.366337    0.683168    0.966997  131.623762  246.264026    0.148515   \n",
       "std      9.082101    0.466011    1.032052   17.538143   51.830751    0.356198   \n",
       "min     29.000000    0.000000    0.000000   94.000000  126.000000    0.000000   \n",
       "25%     47.500000    0.000000    0.000000  120.000000  211.000000    0.000000   \n",
       "50%     55.000000    1.000000    1.000000  130.000000  240.000000    0.000000   \n",
       "75%     61.000000    1.000000    2.000000  140.000000  274.500000    0.000000   \n",
       "max     77.000000    1.000000    3.000000  200.000000  564.000000    1.000000   \n",
       "\n",
       "          restecg     thalach       exang     oldpeak       slope          ca  \\\n",
       "count  303.000000  303.000000  303.000000  303.000000  303.000000  303.000000   \n",
       "mean     0.528053  149.646865    0.326733    1.039604    1.399340    0.729373   \n",
       "std      0.525860   22.905161    0.469794    1.161075    0.616226    1.022606   \n",
       "min      0.000000   71.000000    0.000000    0.000000    0.000000    0.000000   \n",
       "25%      0.000000  133.500000    0.000000    0.000000    1.000000    0.000000   \n",
       "50%      1.000000  153.000000    0.000000    0.800000    1.000000    0.000000   \n",
       "75%      1.000000  166.000000    1.000000    1.600000    2.000000    1.000000   \n",
       "max      2.000000  202.000000    1.000000    6.200000    2.000000    4.000000   \n",
       "\n",
       "             thal      target  \n",
       "count  303.000000  303.000000  \n",
       "mean     2.313531    0.544554  \n",
       "std      0.612277    0.498835  \n",
       "min      0.000000    0.000000  \n",
       "25%      2.000000    0.000000  \n",
       "50%      2.000000    1.000000  \n",
       "75%      3.000000    1.000000  \n",
       "max      3.000000    1.000000  "
      ]
     },
     "metadata": {},
     "output_type": "display_data"
    }
   ],
   "source": [
    "# Проверим статистики по числовым признакам\n",
    "print(\"\\nОсновные статистики по числовым признакам:\")\n",
    "display(df.describe())\n"
   ]
  },
  {
   "cell_type": "code",
   "execution_count": 7,
   "metadata": {},
   "outputs": [
    {
     "name": "stdout",
     "output_type": "stream",
     "text": [
      "\n",
      "Уникальные значения в категориальных признаках:\n",
      "sex: [1, 0]\n",
      "Categories (2, int64): [0, 1]\n",
      "cp: [3, 2, 1, 0]\n",
      "Categories (4, int64): [0, 1, 2, 3]\n",
      "fbs: [1, 0]\n",
      "Categories (2, int64): [0, 1]\n",
      "restecg: [0, 1, 2]\n",
      "Categories (3, int64): [0, 1, 2]\n",
      "exang: [0, 1]\n",
      "Categories (2, int64): [0, 1]\n",
      "slope: [0, 2, 1]\n",
      "Categories (3, int64): [0, 1, 2]\n",
      "ca: [0, 2, 1, 3, 4]\n",
      "Categories (5, int64): [0, 1, 2, 3, 4]\n",
      "thal: [1, 2, 3, 0]\n",
      "Categories (4, int64): [0, 1, 2, 3]\n",
      "target: [1, 0]\n",
      "Categories (2, int64): [0, 1]\n"
     ]
    }
   ],
   "source": [
    "# Проверим уникальные значения в категориальных признаках\n",
    "print(\"\\nУникальные значения в категориальных признаках:\")\n",
    "for col in df.columns:\n",
    "    if df[col].dtype == \"object\" or len(df[col].unique()) < 10:\n",
    "        df[col] = df[col].astype('category')\n",
    "        print(f\"{col}: {df[col].unique()}\")"
   ]
  },
  {
   "cell_type": "code",
   "execution_count": 8,
   "metadata": {},
   "outputs": [
    {
     "name": "stdout",
     "output_type": "stream",
     "text": [
      "\n",
      "Числовые признаки: ['age', 'trestbps', 'chol', 'thalach', 'oldpeak']\n",
      "Категориальные признаки: ['sex', 'cp', 'fbs', 'restecg', 'exang', 'slope', 'ca', 'thal', 'target']\n"
     ]
    }
   ],
   "source": [
    "# Выделим числовые и категориальные признаки\n",
    "num_cols = df.select_dtypes(include=[\"int64\", \"float64\"]).columns.tolist()\n",
    "cat_cols = [col for col in df.columns if col not in num_cols]\n",
    "print(\"\\nЧисловые признаки:\", num_cols)\n",
    "print(\"Категориальные признаки:\", cat_cols)"
   ]
  },
  {
   "cell_type": "code",
   "execution_count": 9,
   "metadata": {},
   "outputs": [
    {
     "name": "stdout",
     "output_type": "stream",
     "text": [
      "\n",
      "Целевая переменная: target\n"
     ]
    }
   ],
   "source": [
    "# Целевая переменная\n",
    "target = \"target\"\n",
    "print(\"\\nЦелевая переменная:\", target)"
   ]
  },
  {
   "cell_type": "markdown",
   "metadata": {},
   "source": [
    "# 2. Очистка данных"
   ]
  },
  {
   "cell_type": "code",
   "execution_count": 10,
   "metadata": {},
   "outputs": [
    {
     "name": "stdout",
     "output_type": "stream",
     "text": [
      "\n",
      "Пропуски по столбцам:\n",
      "age         0\n",
      "sex         0\n",
      "cp          0\n",
      "trestbps    0\n",
      "chol        0\n",
      "fbs         0\n",
      "restecg     0\n",
      "thalach     0\n",
      "exang       0\n",
      "oldpeak     0\n",
      "slope       0\n",
      "ca          0\n",
      "thal        0\n",
      "target      0\n",
      "dtype: int64\n"
     ]
    }
   ],
   "source": [
    "# Проверим пропуски\n",
    "print(\"\\nПропуски по столбцам:\")\n",
    "print(df.isnull().sum())"
   ]
  },
  {
   "cell_type": "code",
   "execution_count": 11,
   "metadata": {},
   "outputs": [
    {
     "name": "stdout",
     "output_type": "stream",
     "text": [
      "\n",
      "Количество дубликатов: 1\n"
     ]
    }
   ],
   "source": [
    "\n",
    "# Удалим дубликаты\n",
    "print(\"\\nКоличество дубликатов:\", df.duplicated().sum())\n",
    "df = df.drop_duplicates()"
   ]
  },
  {
   "cell_type": "code",
   "execution_count": 12,
   "metadata": {},
   "outputs": [
    {
     "name": "stdout",
     "output_type": "stream",
     "text": [
      "\n",
      "Минимальные и максимальные значения:\n",
      "age: 29 - 77\n",
      "trestbps: 94 - 200\n",
      "chol: 126 - 564\n",
      "thalach: 71 - 202\n",
      "oldpeak: 0.0 - 6.2\n"
     ]
    }
   ],
   "source": [
    "# Проверим диапазоны значений (например, возраст, давление)\n",
    "print(\"\\nМинимальные и максимальные значения:\")\n",
    "for col in num_cols:\n",
    "    print(f\"{col}: {df[col].min()} - {df[col].max()}\")"
   ]
  },
  {
   "cell_type": "code",
   "execution_count": 13,
   "metadata": {},
   "outputs": [
    {
     "data": {
      "image/png": "[encoded data removed]",
      "text/plain": [
       "<Figure size 1200x600 with 1 Axes>"
      ]
     },
     "metadata": {},
     "output_type": "display_data"
    }
   ],
   "source": [
    "\n",
    "import numpy as np\n",
    "import matplotlib.pyplot as plt\n",
    "import seaborn as sns\n",
    "plt.figure(figsize=(12, 6))\n",
    "sns.boxplot(data=df[num_cols])\n",
    "plt.xticks(rotation=45)\n",
    "plt.title(\"Проверка выбросов по числовым признакам\")\n",
    "plt.show()"
   ]
  },
  {
   "cell_type": "markdown",
   "metadata": {},
   "source": [
    "# 3. Анализ признаков для модели"
   ]
  },
  {
   "cell_type": "code",
   "execution_count": 14,
   "metadata": {},
   "outputs": [
    {
     "data": {
      "image/png": "[encoded data removed]",
      "text/plain": [
       "<Figure size 640x480 with 1 Axes>"
      ]
     },
     "metadata": {},
     "output_type": "display_data"
    },
    {
     "name": "stdout",
     "output_type": "stream",
     "text": [
      "Вывод: целевая переменная сбалансирована (0 и 1 представлены примерно поровну).\n"
     ]
    },
    {
     "data": {
      "text/plain": [
       "<Figure size 640x480 with 0 Axes>"
      ]
     },
     "metadata": {},
     "output_type": "display_data"
    }
   ],
   "source": [
    "# 1. Распределение целевой переменной\n",
    "sns.countplot(data=df, x=target)\n",
    "plt.title(\"Распределение целевой переменной\")\n",
    "plt.show()\n",
    "plt.savefig(\"plot1_target_distribution.png\")\n",
    "print(\"Вывод: целевая переменная сбалансирована (0 и 1 представлены примерно поровну).\")"
   ]
  },
  {
   "cell_type": "code",
   "execution_count": 15,
   "metadata": {},
   "outputs": [
    {
     "data": {
      "image/png": "[encoded data removed]",
      "text/plain": [
       "<Figure size 1200x1000 with 6 Axes>"
      ]
     },
     "metadata": {},
     "output_type": "display_data"
    },
    {
     "name": "stdout",
     "output_type": "stream",
     "text": [
      "Вывод: распределения числовых признаков различаются – возраст близок к нормальному, холестерин и тромбозные показатели имеют смещение.\n"
     ]
    }
   ],
   "source": [
    "# 2. Распределение числовых признаков (гистограммы)\n",
    "df[num_cols].hist(figsize=(12, 10), bins=20)\n",
    "plt.suptitle(\"Распределение числовых признаков\")\n",
    "plt.savefig(\"plot2_numeric_histograms.png\")\n",
    "plt.show()\n",
    "print(\"Вывод: распределения числовых признаков различаются – возраст близок к нормальному, холестерин и тромбозные показатели имеют смещение.\")"
   ]
  },
  {
   "cell_type": "code",
   "execution_count": 16,
   "metadata": {},
   "outputs": [
    {
     "data": {
      "image/png": "[encoded data removed]",
      "text/plain": [
       "<Figure size 1000x800 with 2 Axes>"
      ]
     },
     "metadata": {},
     "output_type": "display_data"
    },
    {
     "name": "stdout",
     "output_type": "stream",
     "text": [
      "Вывод: сильной мультиколлинеарности нет, но есть умеренные связи (например, trestbps и age).\n"
     ]
    }
   ],
   "source": [
    "# 3. Корреляция числовых признаков (heatmap)\n",
    "plt.figure(figsize=(10, 8))\n",
    "sns.heatmap(df[num_cols].corr(), annot=True, cmap=\"coolwarm\", fmt=\".2f\")\n",
    "plt.title(\"Корреляция числовых признаков\")\n",
    "plt.savefig(\"plot3_correlation_heatmap.png\")\n",
    "plt.show()\n",
    "print(\"Вывод: сильной мультиколлинеарности нет, но есть умеренные связи (например, trestbps и age).\")"
   ]
  },
  {
   "cell_type": "code",
   "execution_count": 17,
   "metadata": {},
   "outputs": [
    {
     "data": {
      "image/png": "[encoded data removed]",
      "text/plain": [
       "<Figure size 800x500 with 1 Axes>"
      ]
     },
     "metadata": {},
     "output_type": "display_data"
    },
    {
     "name": "stdout",
     "output_type": "stream",
     "text": [
      "Вывод: у пациентов без болезнью сердца возраст в среднем выше, чем у тех, у кого болезни нет.\n"
     ]
    }
   ],
   "source": [
    "# 4. Boxplot числовых признаков по целевой переменной\n",
    "plt.figure(figsize=(8, 5))\n",
    "sns.boxplot(data=df, x=target, y=\"age\")\n",
    "plt.title(\"Возраст по целевой переменной\")\n",
    "plt.savefig(\"plot4_age_boxplot.png\")\n",
    "plt.show()\n",
    "print(\"Вывод: у пациентов без болезнью сердца возраст в среднем выше, чем у тех, у кого болезни нет.\")"
   ]
  },
  {
   "cell_type": "code",
   "execution_count": 18,
   "metadata": {},
   "outputs": [
    {
     "data": {
      "application/vnd.plotly.v1+json": {
       "config": {
        "plotlyServerURL": "https://plot.ly"
       },
       "data": [
        {
         "customdata": {
          "bdata": "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",
          "dtype": "f8",
          "shape": "164, 12"
         },
         "hovertemplate": "target=%{customdata[11]}<br>age=%{x}<br>chol=%{y}<br>sex=%{customdata[0]}<br>cp=%{customdata[1]}<br>trestbps=%{customdata[2]}<br>fbs=%{customdata[3]}<br>restecg=%{customdata[4]}<br>thalach=%{customdata[5]}<br>exang=%{customdata[6]}<br>oldpeak=%{customdata[7]}<br>slope=%{customdata[8]}<br>ca=%{customdata[9]}<br>thal=%{customdata[10]}<extra></extra>",
         "legendgroup": "1",
         "marker": {
          "color": "#636efa",
          "symbol": "circle"
         },
         "mode": "markers",
         "name": "1",
         "orientation": "v",
         "showlegend": true,
         "type": "scatter",
         "x": {
          "bdata": "PyUpODk5OCw0OTYwMUA6MjpCK0U7LCo9KEc7M0E1KUEsNjMuNjZBQTMwLTUnNCwvNTUzQj4sPzQwLSI5RzY0KTojMy0sPjYzHTMrNzM7NDopLTw0KkNELjY6MDk0Ni01PjQrNSo7PyoyREUtMjJAOUArNyUpOC4uQDspNiciL0M0SjYxKikpMTw+OUAzKypDTEYsPCwqQkdAQic6LyM6ODg3KSY=",
          "dtype": "i1"
         },
         "xaxis": "x",
         "y": {
          "bdata": "6QD6AMwA7ABiAcAAJgEHAccAqADvABMBCgHTABsB2wBUAeIA9wDvAOoA6QDiAPMAxwAuAdQArwChAcUAxgCxANsAEQHVALEAMAHoAA0BaAE0AfUA0AAIAUEBRQHrAAEB2ADqAAABLgHnAI0A/ADJAN4ABAG2AC8BCQE1AboAywDTALcA3gDqANwA0QACAeMAzAAFAdUA+gD1AN0AzQDwAPoANAE+ASoBCQE0AhUBxQDWAPgA/wDPAN8AIAGgAOIAigHpADsB9gD0AA4BwwDwAMQA0wDqAOwA9AD+AEUBfgA5AdMABgHXANYAwQDMAPMALwEPAQwBCwHHANIAzAAVAcQADQHJAA8BJwHrADIBDQGyANAAyQAHAScBLwHRAN8AxQD1APIA8ADiALQA5ACVAOMAFgHcAMUA/QDAANwA3QDwAFYBnQCvAA==",
          "dtype": "i2"
         },
         "yaxis": "y"
        },
        {
         "customdata": {
          "bdata": "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",
          "dtype": "f8",
          "shape": "138, 12"
         },
         "hovertemplate": "target=%{customdata[11]}<br>age=%{x}<br>chol=%{y}<br>sex=%{customdata[0]}<br>cp=%{customdata[1]}<br>trestbps=%{customdata[2]}<br>fbs=%{customdata[3]}<br>restecg=%{customdata[4]}<br>thalach=%{customdata[5]}<br>exang=%{customdata[6]}<br>oldpeak=%{customdata[7]}<br>slope=%{customdata[8]}<br>ca=%{customdata[9]}<br>thal=%{customdata[10]}<extra></extra>",
         "legendgroup": "0",
         "marker": {
          "color": "#EF553B",
          "symbol": "circle"
         },
         "mode": "markers",
         "name": "0",
         "orientation": "v",
         "showlegend": true,
         "type": "scatter",
         "x": {
          "bdata": "Q0M+PzU4MDo6PCg8QCs5N0E9OjIsPDYyKTM6Njw8Oy5DPkEsPDpEPjQ7PDE7OT0nPTgrPj9BMD83QTg2Rj4jO0AvOTdARjM6PE0jRjtAOTgwOEI2RTMrPkM7LToyPiZCNDU/NkI3MTY4Lj1DOi80Ojk6PSo0Oyg9Ljs5OTc9OjpDLD8/OzktRDk5",
          "dtype": "i1"
         },
         "xaxis": "x",
         "y": {
          "bdata": "HgHlAAwB/gDLAAAB5QAcAeAAzgCnAOYATwGxABQBYQHhAEoB5gDzACIB/QAKAekArAAxAdgAvAAaAbkARgHnAP4ACwH4AMUAAgEOARIBpAD/AO8AAgG8ALEA5QAEAdsAMwH5AFUBBwFKAf4AAAGXAdkAGgEgAe8ArgAZAcYAIAE1AfMAIQEhAfYAQgErASwBJQEwARoBDQH5ANQAEgG4ABIBmQH2ABsB/gAqAfcAJgErAREBNQEDAcgA9ADnAOQA5gAaAQ0BzgDUAEcBlQAeARsB+QDqAO0A6gATAdQA2gAFAT8BpgA7AcwA2gDfAM8ANwHMAOgATwHNAMsAPgHhANQAqQC7AMUAsADxAAgBwQCDAOwA",
          "dtype": "i2"
         },
         "yaxis": "y"
        }
       ],
       "layout": {
        "legend": {
         "title": {
          "text": "target"
         },
         "tracegroupgap": 0
        },
        "template": {
         "data": {
          "bar": [
           {
            "error_x": {
             "color": "#2a3f5f"
            },
            "error_y": {
             "color": "#2a3f5f"
            },
            "marker": {
             "line": {
              "color": "#E5ECF6",
              "width": 0.5
             },
             "pattern": {
              "fillmode": "overlay",
              "size": 10,
              "solidity": 0.2
             }
            },
            "type": "bar"
           }
          ],
          "barpolar": [
           {
            "marker": {
             "line": {
              "color": "#E5ECF6",
              "width": 0.5
             },
             "pattern": {
              "fillmode": "overlay",
              "size": 10,
              "solidity": 0.2
             }
            },
            "type": "barpolar"
           }
          ],
          "carpet": [
           {
            "aaxis": {
             "endlinecolor": "#2a3f5f",
             "gridcolor": "white",
             "linecolor": "white",
             "minorgridcolor": "white",
             "startlinecolor": "#2a3f5f"
            },
            "baxis": {
             "endlinecolor": "#2a3f5f",
             "gridcolor": "white",
             "linecolor": "white",
             "minorgridcolor": "white",
             "startlinecolor": "#2a3f5f"
            },
            "type": "carpet"
           }
          ],
          "choropleth": [
           {
            "colorbar": {
             "outlinewidth": 0,
             "ticks": ""
            },
            "type": "choropleth"
           }
          ],
          "contour": [
           {
            "colorbar": {
             "outlinewidth": 0,
             "ticks": ""
            },
            "colorscale": [
             [
              0,
              "#0d0887"
             ],
             [
              0.1111111111111111,
              "#46039f"
             ],
             [
              0.2222222222222222,
              "#7201a8"
             ],
             [
              0.3333333333333333,
              "#9c179e"
             ],
             [
              0.4444444444444444,
              "#bd3786"
             ],
             [
              0.5555555555555556,
              "#d8576b"
             ],
             [
              0.6666666666666666,
              "#ed7953"
             ],
             [
              0.7777777777777778,
              "#fb9f3a"
             ],
             [
              0.8888888888888888,
              "#fdca26"
             ],
             [
              1,
              "#f0f921"
             ]
            ],
            "type": "contour"
           }
          ],
          "contourcarpet": [
           {
            "colorbar": {
             "outlinewidth": 0,
             "ticks": ""
            },
            "type": "contourcarpet"
           }
          ],
          "heatmap": [
           {
            "colorbar": {
             "outlinewidth": 0,
             "ticks": ""
            },
            "colorscale": [
             [
              0,
              "#0d0887"
             ],
             [
              0.1111111111111111,
              "#46039f"
             ],
             [
              0.2222222222222222,
              "#7201a8"
             ],
             [
              0.3333333333333333,
              "#9c179e"
             ],
             [
              0.4444444444444444,
              "#bd3786"
             ],
             [
              0.5555555555555556,
              "#d8576b"
             ],
             [
              0.6666666666666666,
              "#ed7953"
             ],
             [
              0.7777777777777778,
              "#fb9f3a"
             ],
             [
              0.8888888888888888,
              "#fdca26"
             ],
             [
              1,
              "#f0f921"
             ]
            ],
            "type": "heatmap"
           }
          ],
          "histogram": [
           {
            "marker": {
             "pattern": {
              "fillmode": "overlay",
              "size": 10,
              "solidity": 0.2
             }
            },
            "type": "histogram"
           }
          ],
          "histogram2d": [
           {
            "colorbar": {
             "outlinewidth": 0,
             "ticks": ""
            },
            "colorscale": [
             [
              0,
              "#0d0887"
             ],
             [
              0.1111111111111111,
              "#46039f"
             ],
             [
              0.2222222222222222,
              "#7201a8"
             ],
             [
              0.3333333333333333,
              "#9c179e"
             ],
             [
              0.4444444444444444,
              "#bd3786"
             ],
             [
              0.5555555555555556,
              "#d8576b"
             ],
             [
              0.6666666666666666,
              "#ed7953"
             ],
             [
              0.7777777777777778,
              "#fb9f3a"
             ],
             [
              0.8888888888888888,
              "#fdca26"
             ],
             [
              1,
              "#f0f921"
             ]
            ],
            "type": "histogram2d"
           }
          ],
          "histogram2dcontour": [
           {
            "colorbar": {
             "outlinewidth": 0,
             "ticks": ""
            },
            "colorscale": [
             [
              0,
              "#0d0887"
             ],
             [
              0.1111111111111111,
              "#46039f"
             ],
             [
              0.2222222222222222,
              "#7201a8"
             ],
             [
              0.3333333333333333,
              "#9c179e"
             ],
             [
              0.4444444444444444,
              "#bd3786"
             ],
             [
              0.5555555555555556,
              "#d8576b"
             ],
             [
              0.6666666666666666,
              "#ed7953"
             ],
             [
              0.7777777777777778,
              "#fb9f3a"
             ],
             [
              0.8888888888888888,
              "#fdca26"
             ],
             [
              1,
              "#f0f921"
             ]
            ],
            "type": "histogram2dcontour"
           }
          ],
          "mesh3d": [
           {
            "colorbar": {
             "outlinewidth": 0,
             "ticks": ""
            },
            "type": "mesh3d"
           }
          ],
          "parcoords": [
           {
            "line": {
             "colorbar": {
              "outlinewidth": 0,
              "ticks": ""
             }
            },
            "type": "parcoords"
           }
          ],
          "pie": [
           {
            "automargin": true,
            "type": "pie"
           }
          ],
          "scatter": [
           {
            "fillpattern": {
             "fillmode": "overlay",
             "size": 10,
             "solidity": 0.2
            },
            "type": "scatter"
           }
          ],
          "scatter3d": [
           {
            "line": {
             "colorbar": {
              "outlinewidth": 0,
              "ticks": ""
             }
            },
            "marker": {
             "colorbar": {
              "outlinewidth": 0,
              "ticks": ""
             }
            },
            "type": "scatter3d"
           }
          ],
          "scattercarpet": [
           {
            "marker": {
             "colorbar": {
              "outlinewidth": 0,
              "ticks": ""
             }
            },
            "type": "scattercarpet"
           }
          ],
          "scattergeo": [
           {
            "marker": {
             "colorbar": {
              "outlinewidth": 0,
              "ticks": ""
             }
            },
            "type": "scattergeo"
           }
          ],
          "scattergl": [
           {
            "marker": {
             "colorbar": {
              "outlinewidth": 0,
              "ticks": ""
             }
            },
            "type": "scattergl"
           }
          ],
          "scattermap": [
           {
            "marker": {
             "colorbar": {
              "outlinewidth": 0,
              "ticks": ""
             }
            },
            "type": "scattermap"
           }
          ],
          "scattermapbox": [
           {
            "marker": {
             "colorbar": {
              "outlinewidth": 0,
              "ticks": ""
             }
            },
            "type": "scattermapbox"
           }
          ],
          "scatterpolar": [
           {
            "marker": {
             "colorbar": {
              "outlinewidth": 0,
              "ticks": ""
             }
            },
            "type": "scatterpolar"
           }
          ],
          "scatterpolargl": [
           {
            "marker": {
             "colorbar": {
              "outlinewidth": 0,
              "ticks": ""
             }
            },
            "type": "scatterpolargl"
           }
          ],
          "scatterternary": [
           {
            "marker": {
             "colorbar": {
              "outlinewidth": 0,
              "ticks": ""
             }
            },
            "type": "scatterternary"
           }
          ],
          "surface": [
           {
            "colorbar": {
             "outlinewidth": 0,
             "ticks": ""
            },
            "colorscale": [
             [
              0,
              "#0d0887"
             ],
             [
              0.1111111111111111,
              "#46039f"
             ],
             [
              0.2222222222222222,
              "#7201a8"
             ],
             [
              0.3333333333333333,
              "#9c179e"
             ],
             [
              0.4444444444444444,
              "#bd3786"
             ],
             [
              0.5555555555555556,
              "#d8576b"
             ],
             [
              0.6666666666666666,
              "#ed7953"
             ],
             [
              0.7777777777777778,
              "#fb9f3a"
             ],
             [
              0.8888888888888888,
              "#fdca26"
             ],
             [
              1,
              "#f0f921"
             ]
            ],
            "type": "surface"
           }
          ],
          "table": [
           {
            "cells": {
             "fill": {
              "color": "#EBF0F8"
             },
             "line": {
              "color": "white"
             }
            },
            "header": {
             "fill": {
              "color": "#C8D4E3"
             },
             "line": {
              "color": "white"
             }
            },
            "type": "table"
           }
          ]
         },
         "layout": {
          "annotationdefaults": {
           "arrowcolor": "#2a3f5f",
           "arrowhead": 0,
           "arrowwidth": 1
          },
          "autotypenumbers": "strict",
          "coloraxis": {
           "colorbar": {
            "outlinewidth": 0,
            "ticks": ""
           }
          },
          "colorscale": {
           "diverging": [
            [
             0,
             "#8e0152"
            ],
            [
             0.1,
             "#c51b7d"
            ],
            [
             0.2,
             "#de77ae"
            ],
            [
             0.3,
             "#f1b6da"
            ],
            [
             0.4,
             "#fde0ef"
            ],
            [
             0.5,
             "#f7f7f7"
            ],
            [
             0.6,
             "#e6f5d0"
            ],
            [
             0.7,
             "#b8e186"
            ],
            [
             0.8,
             "#7fbc41"
            ],
            [
             0.9,
             "#4d9221"
            ],
            [
             1,
             "#276419"
            ]
           ],
           "sequential": [
            [
             0,
             "#0d0887"
            ],
            [
             0.1111111111111111,
             "#46039f"
            ],
            [
             0.2222222222222222,
             "#7201a8"
            ],
            [
             0.3333333333333333,
             "#9c179e"
            ],
            [
             0.4444444444444444,
             "#bd3786"
            ],
            [
             0.5555555555555556,
             "#d8576b"
            ],
            [
             0.6666666666666666,
             "#ed7953"
            ],
            [
             0.7777777777777778,
             "#fb9f3a"
            ],
            [
             0.8888888888888888,
             "#fdca26"
            ],
            [
             1,
             "#f0f921"
            ]
           ],
           "sequentialminus": [
            [
             0,
             "#0d0887"
            ],
            [
             0.1111111111111111,
             "#46039f"
            ],
            [
             0.2222222222222222,
             "#7201a8"
            ],
            [
             0.3333333333333333,
             "#9c179e"
            ],
            [
             0.4444444444444444,
             "#bd3786"
            ],
            [
             0.5555555555555556,
             "#d8576b"
            ],
            [
             0.6666666666666666,
             "#ed7953"
            ],
            [
             0.7777777777777778,
             "#fb9f3a"
            ],
            [
             0.8888888888888888,
             "#fdca26"
            ],
            [
             1,
             "#f0f921"
            ]
           ]
          },
          "colorway": [
           "#636efa",
           "#EF553B",
           "#00cc96",
           "#ab63fa",
           "#FFA15A",
           "#19d3f3",
           "#FF6692",
           "#B6E880",
           "#FF97FF",
           "#FECB52"
          ],
          "font": {
           "color": "#2a3f5f"
          },
          "geo": {
           "bgcolor": "white",
           "lakecolor": "white",
           "landcolor": "#E5ECF6",
           "showlakes": true,
           "showland": true,
           "subunitcolor": "white"
          },
          "hoverlabel": {
           "align": "left"
          },
          "hovermode": "closest",
          "mapbox": {
           "style": "light"
          },
          "paper_bgcolor": "white",
          "plot_bgcolor": "#E5ECF6",
          "polar": {
           "angularaxis": {
            "gridcolor": "white",
            "linecolor": "white",
            "ticks": ""
           },
           "bgcolor": "#E5ECF6",
           "radialaxis": {
            "gridcolor": "white",
            "linecolor": "white",
            "ticks": ""
           }
          },
          "scene": {
           "xaxis": {
            "backgroundcolor": "#E5ECF6",
            "gridcolor": "white",
            "gridwidth": 2,
            "linecolor": "white",
            "showbackground": true,
            "ticks": "",
            "zerolinecolor": "white"
           },
           "yaxis": {
            "backgroundcolor": "#E5ECF6",
            "gridcolor": "white",
            "gridwidth": 2,
            "linecolor": "white",
            "showbackground": true,
            "ticks": "",
            "zerolinecolor": "white"
           },
           "zaxis": {
            "backgroundcolor": "#E5ECF6",
            "gridcolor": "white",
            "gridwidth": 2,
            "linecolor": "white",
            "showbackground": true,
            "ticks": "",
            "zerolinecolor": "white"
           }
          },
          "shapedefaults": {
           "line": {
            "color": "#2a3f5f"
           }
          },
          "ternary": {
           "aaxis": {
            "gridcolor": "white",
            "linecolor": "white",
            "ticks": ""
           },
           "baxis": {
            "gridcolor": "white",
            "linecolor": "white",
            "ticks": ""
           },
           "bgcolor": "#E5ECF6",
           "caxis": {
            "gridcolor": "white",
            "linecolor": "white",
            "ticks": ""
           }
          },
          "title": {
           "x": 0.05
          },
          "xaxis": {
           "automargin": true,
           "gridcolor": "white",
           "linecolor": "white",
           "ticks": "",
           "title": {
            "standoff": 15
           },
           "zerolinecolor": "white",
           "zerolinewidth": 2
          },
          "yaxis": {
           "automargin": true,
           "gridcolor": "white",
           "linecolor": "white",
           "ticks": "",
           "title": {
            "standoff": 15
           },
           "zerolinecolor": "white",
           "zerolinewidth": 2
          }
         }
        },
        "title": {
         "text": "Взаимосвязь возраста и холестерина по целевой переменной"
        },
        "xaxis": {
         "anchor": "y",
         "domain": [
          0,
          1
         ],
         "title": {
          "text": "age"
         }
        },
        "yaxis": {
         "anchor": "x",
         "domain": [
          0,
          1
         ],
         "title": {
          "text": "chol"
         }
        }
       }
      }
     },
     "metadata": {},
     "output_type": "display_data"
    },
    {
     "name": "stdout",
     "output_type": "stream",
     "text": [
      "Вывод: повышенный холестерин чаще встречается у пациентов среднего и старшего возраста, а также чаще у тех, кто болен сердечно-сосудистыми заболеваниями.\n"
     ]
    }
   ],
   "source": [
    "# 5. Интерактивный scatter plot (age vs chol)\n",
    "import plotly.express as px\n",
    "\n",
    "fig = px.scatter(\n",
    "    df,\n",
    "    x=\"age\",\n",
    "    y=\"chol\",\n",
    "    color=target,\n",
    "    title=\"Взаимосвязь возраста и холестерина по целевой переменной\",\n",
    "    hover_data=df.columns\n",
    ")\n",
    "fig.write_html(\"plot5_age_vs_chol.html\")\n",
    "fig.show()\n",
    "print(\"Вывод: повышенный холестерин чаще встречается у пациентов среднего и старшего возраста, а также чаще у тех, кто болен сердечно-сосудистыми заболеваниями.\")"
   ]
  },
  {
   "cell_type": "code",
   "execution_count": 21,
   "metadata": {},
   "outputs": [
    {
     "name": "stdout",
     "output_type": "stream",
     "text": [
      "Вывод: повышенный холестерин чаще встречается у пациентов среднего и старшего возраста, а также чаще у тех, кто болен сердечно-сосудистыми заболеваниями.\n"
     ]
    }
   ],
   "source": [
    "print(\"Вывод: повышенный холестерин чаще встречается у пациентов среднего и старшего возраста, а также чаще у тех, кто болен сердечно-сосудистыми заболеваниями.\")"
   ]
  },
  {
   "cell_type": "markdown",
   "metadata": {},
   "source": [
    "# 4. Сохранение финального датасета"
   ]
  },
  {
   "cell_type": "code",
   "execution_count": 25,
   "metadata": {},
   "outputs": [
    {
     "name": "stdout",
     "output_type": "stream",
     "text": [
      "\n",
      "Финальный датасет сохранён в 'heart_clean.pkl'\n"
     ]
    }
   ],
   "source": [
    "df.to_pickle(\"heart_clean.pkl\")\n",
    "print(\"\\nФинальный датасет сохранён в 'heart_clean.pkl'\")\n"
   ]
  },
  {
   "cell_type": "markdown",
   "metadata": {},
   "source": [
    "# 5. Выводы"
   ]
  },
  {
   "cell_type": "code",
   "execution_count": 27,
   "metadata": {},
   "outputs": [
    {
     "name": "stdout",
     "output_type": "stream",
     "text": [
      "\n",
      "Выводы:\n",
      "- Данные загружены, проверены типы и статистики.\n",
      "- Удалены дубликаты, проверены пропуски (их нет).\n",
      "- Выделены числовые и категориальные признаки.\n",
      "- Проведён анализ распределений и корреляций.\n",
      "- Финальный датасет сохранён\n",
      "\n"
     ]
    }
   ],
   "source": [
    "print(\"\"\"\n",
    "Выводы:\n",
    "- Данные загружены, проверены типы и статистики.\n",
    "- Удалены дубликаты, проверены пропуски (их нет).\n",
    "- Выделены числовые и категориальные признаки.\n",
    "- Проведён анализ распределений и корреляций.\n",
    "- Финальный датасет сохранён\n",
    "\"\"\")"
   ]
  }
 ],
 "metadata": {
  "kernelspec": {
   "display_name": "venv",
   "language": "python",
   "name": "python3"
  },
  "language_info": {
   "codemirror_mode": {
    "name": "ipython",
    "version": 3
   },
   "file_extension": ".py",
   "mimetype": "text/x-python",
   "name": "python",
   "nbconvert_exporter": "python",
   "pygments_lexer": "ipython3",
   "version": "3.10.2"
  }
 },
 "nbformat": 4,
 "nbformat_minor": 2
}
